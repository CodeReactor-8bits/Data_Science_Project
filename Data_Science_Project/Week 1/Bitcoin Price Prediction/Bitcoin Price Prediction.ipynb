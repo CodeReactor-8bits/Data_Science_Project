{
 "cells": [
  {
   "cell_type": "code",
   "execution_count": 1,
   "metadata": {},
   "outputs": [],
   "source": [
    "# Importing relevant libraries\n",
    "import pandas as pd\n",
    "import numpy as np  \n",
    "import seaborn as sns\n",
    "sns.set()\n",
    "\n",
    "# Hide Warnings\n",
    "import warnings\n",
    "warnings.filterwarnings(\"ignore\")"
   ]
  },
  {
   "cell_type": "code",
   "execution_count": null,
   "metadata": {},
   "outputs": [],
   "source": [
    "# Reading data from url\n",
    "url = \"https://raw.githubusercontent.com/WidhyaOrg/datasets/master/bitcoin_dataset.csv\"\n",
    "df = pd.read_csv(url)"
   ]
  },
  {
   "cell_type": "code",
   "execution_count": null,
   "metadata": {},
   "outputs": [],
   "source": [
    "df.head()"
   ]
  },
  {
   "cell_type": "code",
   "execution_count": null,
   "metadata": {
    "scrolled": true
   },
   "outputs": [],
   "source": [
    "df.iloc[1023]['btc_market_price']"
   ]
  },
  {
   "cell_type": "code",
   "execution_count": null,
   "metadata": {},
   "outputs": [],
   "source": [
    "df.info()"
   ]
  },
  {
   "cell_type": "code",
   "execution_count": null,
   "metadata": {},
   "outputs": [],
   "source": [
    "plot = sns.jointplot(x=\"btc_market_cap\", y=\"btc_market_price\", data=df,kind=\"scatter\",color=\"m\", height=7)\n",
    "plot1 = sns.jointplot(x=\"btc_total_bitcoins\", y=\"btc_market_price\", data=df,kind=\"scatter\",color=\"m\", height=7)\n",
    "plot2 = sns.jointplot(x=\"btc_trade_volume\", y=\"btc_market_price\", data=df,kind=\"scatter\",color=\"m\", height=7)\n",
    "plot3 = sns.jointplot(x=\"btc_blocks_size\", y=\"btc_market_price\", data=df,kind=\"scatter\",color=\"m\", height=7)\n",
    "plot4 = sns.jointplot(x=\"btc_n_transactions_per_block\", y=\"btc_market_price\", data=df,kind=\"scatter\",color=\"m\", height=7)\n",
    "plot5 = sns.jointplot(x=\"btc_median_confirmation_time\", y=\"btc_market_price\", data=df,kind=\"scatter\",color=\"m\", height=7)\n",
    "plot6 = sns.jointplot(x=\"btc_hash_rate\", y=\"btc_market_price\", data=df,kind=\"scatter\",color=\"m\", height=7)\n",
    "plot7 = sns.jointplot(x=\"btc_difficulty\", y=\"btc_market_price\", data=df,kind=\"scatter\",color=\"m\", height=7)\n",
    "plot8 = sns.jointplot(x=\"btc_miners_revenue\", y=\"btc_market_price\", data=df,kind=\"scatter\",color=\"m\", height=7)\n",
    "plot9 = sns.jointplot(x=\"btc_transaction_fees\", y=\"btc_market_price\", data=df,kind=\"scatter\",color=\"m\", height=7)\n",
    "plot10 = sns.jointplot(x=\"btc_cost_per_transaction_percent\", y=\"btc_market_price\", data=df,kind=\"scatter\",color=\"m\", height=7)\n",
    "plot11 = sns.jointplot(x=\"btc_cost_per_transaction\", y=\"btc_market_price\", data=df,kind=\"scatter\",color=\"m\", height=7)\n",
    "plot12 = sns.jointplot(x=\"btc_n_unique_addresses\", y=\"btc_market_price\", data=df,kind=\"scatter\",color=\"m\", height=7)\n",
    "plot13 = sns.jointplot(x=\"btc_n_transactions\", y=\"btc_market_price\", data=df,kind=\"scatter\",color=\"m\", height=7)\n",
    "plot14 = sns.jointplot(x=\"btc_n_transactions_total\", y=\"btc_market_price\", data=df,kind=\"scatter\",color=\"m\", height=7)\n",
    "plot15 = sns.jointplot(x=\"btc_n_transactions_excluding_popular\", y=\"btc_market_price\", data=df,kind=\"scatter\",color=\"m\", height=7)\n",
    "plot16 = sns.jointplot(x=\"btc_n_transactions_excluding_chains_longer_than_100\", y=\"btc_market_price\", data=df,kind=\"scatter\",color=\"m\", height=7)\n",
    "plot17 = sns.jointplot(x=\"btc_output_volume\", y=\"btc_market_price\", data=df,kind=\"scatter\",color=\"m\", height=7)\n",
    "plot18 = sns.jointplot(x=\"btc_estimated_transaction_volume\", y=\"btc_market_price\", data=df,kind=\"scatter\",color=\"m\", height=7)\n",
    "plot19 = sns.jointplot(x=\"btc_estimated_transaction_volume_usd\", y=\"btc_market_price\", data=df,kind=\"scatter\",color=\"m\", height=7)"
   ]
  },
  {
   "cell_type": "code",
   "execution_count": null,
   "metadata": {
    "scrolled": false
   },
   "outputs": [],
   "source": [
    "df.corr(method='pearson')"
   ]
  },
  {
   "cell_type": "code",
   "execution_count": null,
   "metadata": {},
   "outputs": [],
   "source": [
    "df=df.fillna(df.mean())"
   ]
  },
  {
   "cell_type": "code",
   "execution_count": null,
   "metadata": {},
   "outputs": [],
   "source": [
    "X=df[['btc_market_cap','btc_n_transactions','btc_miners_revenue','btc_cost_per_transaction','btc_difficulty','btc_hash_rate','btc_cost_per_transaction_percent']]\n",
    "y=df['btc_market_price']"
   ]
  },
  {
   "cell_type": "code",
   "execution_count": null,
   "metadata": {},
   "outputs": [],
   "source": [
    "from sklearn.model_selection import train_test_split"
   ]
  },
  {
   "cell_type": "code",
   "execution_count": null,
   "metadata": {},
   "outputs": [],
   "source": [
    "X_train, X_test, y_train, y_test = train_test_split(X, y, random_state=3)"
   ]
  },
  {
   "cell_type": "markdown",
   "metadata": {},
   "source": [
    "### Implementation "
   ]
  },
  {
   "cell_type": "code",
   "execution_count": null,
   "metadata": {},
   "outputs": [],
   "source": [
    "from sklearn.linear_model import LinearRegression"
   ]
  },
  {
   "cell_type": "code",
   "execution_count": null,
   "metadata": {},
   "outputs": [],
   "source": [
    "linear_model = LinearRegression()"
   ]
  },
  {
   "cell_type": "code",
   "execution_count": null,
   "metadata": {},
   "outputs": [],
   "source": [
    "linear_model.fit(X_train, y_train)"
   ]
  },
  {
   "cell_type": "code",
   "execution_count": null,
   "metadata": {},
   "outputs": [],
   "source": [
    "y_predicted = linear_model.predict(X_test)\n",
    "y_predicted"
   ]
  },
  {
   "cell_type": "code",
   "execution_count": null,
   "metadata": {},
   "outputs": [],
   "source": [
    "# Comparing the actual vs predicted scores\n",
    "df = pd.DataFrame({'Actual Score': y_test, 'Predicted Score': y_predicted})  \n",
    "df "
   ]
  },
  {
   "cell_type": "markdown",
   "metadata": {},
   "source": [
    "### Checking Train and Test Accuracies of our Linear Model"
   ]
  },
  {
   "cell_type": "code",
   "execution_count": null,
   "metadata": {},
   "outputs": [],
   "source": [
    "print(\"Train Score =\",linear_model.score(X_train, y_train))\n",
    "print(\"Test Score =\",linear_model.score(X_test, y_test))"
   ]
  },
  {
   "cell_type": "markdown",
   "metadata": {},
   "source": [
    "### Evaluating the model's performance"
   ]
  },
  {
   "cell_type": "code",
   "execution_count": null,
   "metadata": {},
   "outputs": [],
   "source": [
    "# importing the required metrics for evaluation\n",
    "from sklearn.metrics import mean_squared_error"
   ]
  },
  {
   "cell_type": "code",
   "execution_count": null,
   "metadata": {},
   "outputs": [],
   "source": [
    "print('Mean Squared Error:',mean_squared_error(y_test, y_predicted)) "
   ]
  }
 ],
 "metadata": {
  "kernelspec": {
   "display_name": "Python 3",
   "language": "python",
   "name": "python3"
  },
  "language_info": {
   "codemirror_mode": {
    "name": "ipython",
    "version": 3
   },
   "file_extension": ".py",
   "mimetype": "text/x-python",
   "name": "python",
   "nbconvert_exporter": "python",
   "pygments_lexer": "ipython3",
   "version": "3.7.4"
  }
 },
 "nbformat": 4,
 "nbformat_minor": 2
}
